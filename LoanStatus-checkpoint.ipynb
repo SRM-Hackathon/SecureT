{
 "cells": [
  {
   "cell_type": "code",
   "execution_count": 740,
   "metadata": {},
   "outputs": [],
   "source": [
    "import pandas as pd\n",
    "import numpy as np \n",
    "import matplotlib.pyplot as plt\n",
    "from sklearn.linear_model import LogisticRegression\n",
    "from sklearn import preprocessing\n",
    "import seaborn as sns\n",
    "import math\n",
    "from sklearn.model_selection import train_test_split\n",
    "%matplotlib inline"
   ]
  },
  {
   "cell_type": "code",
   "execution_count": 743,
   "metadata": {
    "scrolled": false
   },
   "outputs": [
    {
     "data": {
      "text/html": [
       "<div>\n",
       "<style scoped>\n",
       "    .dataframe tbody tr th:only-of-type {\n",
       "        vertical-align: middle;\n",
       "    }\n",
       "\n",
       "    .dataframe tbody tr th {\n",
       "        vertical-align: top;\n",
       "    }\n",
       "\n",
       "    .dataframe thead th {\n",
       "        text-align: right;\n",
       "    }\n",
       "</style>\n",
       "<table border=\"1\" class=\"dataframe\">\n",
       "  <thead>\n",
       "    <tr style=\"text-align: right;\">\n",
       "      <th></th>\n",
       "      <th>LoanID</th>\n",
       "      <th>CustomerID</th>\n",
       "      <th>LoanStatus</th>\n",
       "      <th>CurrentLoanAmount</th>\n",
       "      <th>Term</th>\n",
       "      <th>CreditScore</th>\n",
       "      <th>AnnualIncome</th>\n",
       "      <th>Yearsincurrentjob</th>\n",
       "      <th>HomeOwnership</th>\n",
       "      <th>Purpose</th>\n",
       "      <th>MonthlyDebt</th>\n",
       "      <th>YearsofCreditHistory</th>\n",
       "      <th>Monthssincelastdelinquent</th>\n",
       "      <th>NumberofOpenAccounts</th>\n",
       "      <th>NumberofCreditProblems</th>\n",
       "      <th>CurrentCreditBalance</th>\n",
       "      <th>MaximumOpenCredit</th>\n",
       "      <th>Bankruptcies</th>\n",
       "      <th>TaxLiens</th>\n",
       "    </tr>\n",
       "  </thead>\n",
       "  <tbody>\n",
       "    <tr>\n",
       "      <th>2</th>\n",
       "      <td>4eed4e6a-aa2f-4c91-8651-ce984ee8fb26</td>\n",
       "      <td>5efb2b2b-bf11-4dfd-a572-3761a2694725</td>\n",
       "      <td>Fully Paid</td>\n",
       "      <td>99999999</td>\n",
       "      <td>Short Term</td>\n",
       "      <td>741.0</td>\n",
       "      <td>2231892.0</td>\n",
       "      <td>8 years</td>\n",
       "      <td>Own Home</td>\n",
       "      <td>Debt Consolidation</td>\n",
       "      <td>29200.53</td>\n",
       "      <td>14.9</td>\n",
       "      <td>29.0</td>\n",
       "      <td>18</td>\n",
       "      <td>1</td>\n",
       "      <td>297996</td>\n",
       "      <td>750090</td>\n",
       "      <td>0</td>\n",
       "      <td>0</td>\n",
       "    </tr>\n",
       "    <tr>\n",
       "      <th>6</th>\n",
       "      <td>273581de-85d8-4332-81a5-19b04ce68666</td>\n",
       "      <td>90a75dde-34d5-419c-90dc-1e58b04b3e35</td>\n",
       "      <td>Fully Paid</td>\n",
       "      <td>217646</td>\n",
       "      <td>Short Term</td>\n",
       "      <td>730.0</td>\n",
       "      <td>1184194.0</td>\n",
       "      <td>&lt; 1 year</td>\n",
       "      <td>Home Mortgage</td>\n",
       "      <td>Debt Consolidation</td>\n",
       "      <td>10855.08</td>\n",
       "      <td>19.6</td>\n",
       "      <td>10.0</td>\n",
       "      <td>13</td>\n",
       "      <td>1</td>\n",
       "      <td>122170</td>\n",
       "      <td>272052</td>\n",
       "      <td>1</td>\n",
       "      <td>0</td>\n",
       "    </tr>\n",
       "    <tr>\n",
       "      <th>8</th>\n",
       "      <td>8af915d9-9e91-44a0-b5a2-564a45c12089</td>\n",
       "      <td>af534dea-d27e-4fd6-9de8-efaa52a78ec0</td>\n",
       "      <td>Fully Paid</td>\n",
       "      <td>548746</td>\n",
       "      <td>Short Term</td>\n",
       "      <td>678.0</td>\n",
       "      <td>2559110.0</td>\n",
       "      <td>2 years</td>\n",
       "      <td>Rent</td>\n",
       "      <td>Debt Consolidation</td>\n",
       "      <td>18660.28</td>\n",
       "      <td>22.6</td>\n",
       "      <td>33.0</td>\n",
       "      <td>4</td>\n",
       "      <td>0</td>\n",
       "      <td>437171</td>\n",
       "      <td>555038</td>\n",
       "      <td>0</td>\n",
       "      <td>0</td>\n",
       "    </tr>\n",
       "    <tr>\n",
       "      <th>10</th>\n",
       "      <td>32c2e48f-1ba8-45e0-a530-9a6622c18d9c</td>\n",
       "      <td>0de7bcdb-ebf4-4608-ba39-05f083f855b6</td>\n",
       "      <td>Fully Paid</td>\n",
       "      <td>99999999</td>\n",
       "      <td>Short Term</td>\n",
       "      <td>728.0</td>\n",
       "      <td>714628.0</td>\n",
       "      <td>3 years</td>\n",
       "      <td>Rent</td>\n",
       "      <td>Debt Consolidation</td>\n",
       "      <td>11851.06</td>\n",
       "      <td>16.0</td>\n",
       "      <td>76.0</td>\n",
       "      <td>16</td>\n",
       "      <td>0</td>\n",
       "      <td>203965</td>\n",
       "      <td>289784</td>\n",
       "      <td>0</td>\n",
       "      <td>0</td>\n",
       "    </tr>\n",
       "    <tr>\n",
       "      <th>12</th>\n",
       "      <td>403d7235-0284-4bb6-919a-09402fecbf7b</td>\n",
       "      <td>11581f68-de3c-49d8-80d9-22268ebb323b</td>\n",
       "      <td>Fully Paid</td>\n",
       "      <td>99999999</td>\n",
       "      <td>Short Term</td>\n",
       "      <td>740.0</td>\n",
       "      <td>776188.0</td>\n",
       "      <td>&lt; 1 year</td>\n",
       "      <td>Own Home</td>\n",
       "      <td>Debt Consolidation</td>\n",
       "      <td>11578.22</td>\n",
       "      <td>8.5</td>\n",
       "      <td>25.0</td>\n",
       "      <td>6</td>\n",
       "      <td>0</td>\n",
       "      <td>134083</td>\n",
       "      <td>220220</td>\n",
       "      <td>0</td>\n",
       "      <td>0</td>\n",
       "    </tr>\n",
       "    <tr>\n",
       "      <th>14</th>\n",
       "      <td>2e841c8f-3dc1-464d-91c1-3d3d51e64c38</td>\n",
       "      <td>2ac05980-7848-4692-89ae-9321afe650f8</td>\n",
       "      <td>Fully Paid</td>\n",
       "      <td>234124</td>\n",
       "      <td>Short Term</td>\n",
       "      <td>727.0</td>\n",
       "      <td>693234.0</td>\n",
       "      <td>10+ years</td>\n",
       "      <td>Rent</td>\n",
       "      <td>Debt Consolidation</td>\n",
       "      <td>14211.24</td>\n",
       "      <td>24.7</td>\n",
       "      <td>46.0</td>\n",
       "      <td>10</td>\n",
       "      <td>1</td>\n",
       "      <td>28291</td>\n",
       "      <td>107052</td>\n",
       "      <td>1</td>\n",
       "      <td>0</td>\n",
       "    </tr>\n",
       "    <tr>\n",
       "      <th>17</th>\n",
       "      <td>24e8c8bd-d10b-4dac-8b81-1da470ff5ecb</td>\n",
       "      <td>967e8733-7189-49b7-a3ab-6a1d0e1abdac</td>\n",
       "      <td>Fully Paid</td>\n",
       "      <td>666204</td>\n",
       "      <td>Long Term</td>\n",
       "      <td>723.0</td>\n",
       "      <td>1821967.0</td>\n",
       "      <td>10+ years</td>\n",
       "      <td>Home Mortgage</td>\n",
       "      <td>Debt Consolidation</td>\n",
       "      <td>17612.24</td>\n",
       "      <td>22.0</td>\n",
       "      <td>34.0</td>\n",
       "      <td>15</td>\n",
       "      <td>0</td>\n",
       "      <td>813694</td>\n",
       "      <td>2004618</td>\n",
       "      <td>0</td>\n",
       "      <td>0</td>\n",
       "    </tr>\n",
       "    <tr>\n",
       "      <th>20</th>\n",
       "      <td>150ebbad-ebed-441e-b70d-2f350ad7dca6</td>\n",
       "      <td>40f729c9-54c7-4768-9fb5-2fa41d074c48</td>\n",
       "      <td>Charged Off</td>\n",
       "      <td>317108</td>\n",
       "      <td>Long Term</td>\n",
       "      <td>687.0</td>\n",
       "      <td>1133274.0</td>\n",
       "      <td>8 years</td>\n",
       "      <td>Rent</td>\n",
       "      <td>Debt Consolidation</td>\n",
       "      <td>9632.81</td>\n",
       "      <td>17.4</td>\n",
       "      <td>53.0</td>\n",
       "      <td>4</td>\n",
       "      <td>0</td>\n",
       "      <td>60287</td>\n",
       "      <td>126940</td>\n",
       "      <td>0</td>\n",
       "      <td>0</td>\n",
       "    </tr>\n",
       "    <tr>\n",
       "      <th>25</th>\n",
       "      <td>578c8e10-3214-4491-bdbc-b1695ef8ff87</td>\n",
       "      <td>cbe53e22-ba67-4eaf-a4fb-c5acdd12ec66</td>\n",
       "      <td>Fully Paid</td>\n",
       "      <td>465410</td>\n",
       "      <td>Long Term</td>\n",
       "      <td>688.0</td>\n",
       "      <td>1722654.0</td>\n",
       "      <td>3 years</td>\n",
       "      <td>Rent</td>\n",
       "      <td>Buy House</td>\n",
       "      <td>15647.45</td>\n",
       "      <td>22.3</td>\n",
       "      <td>30.0</td>\n",
       "      <td>7</td>\n",
       "      <td>0</td>\n",
       "      <td>107559</td>\n",
       "      <td>488356</td>\n",
       "      <td>0</td>\n",
       "      <td>0</td>\n",
       "    </tr>\n",
       "    <tr>\n",
       "      <th>28</th>\n",
       "      <td>ccc6dadf-7530-4ca6-a679-a228ae478b5d</td>\n",
       "      <td>689da294-ff83-4d49-986a-c61887f6d4e2</td>\n",
       "      <td>Fully Paid</td>\n",
       "      <td>99999999</td>\n",
       "      <td>Short Term</td>\n",
       "      <td>746.0</td>\n",
       "      <td>1749748.0</td>\n",
       "      <td>10+ years</td>\n",
       "      <td>Home Mortgage</td>\n",
       "      <td>Debt Consolidation</td>\n",
       "      <td>19247.19</td>\n",
       "      <td>20.0</td>\n",
       "      <td>32.0</td>\n",
       "      <td>17</td>\n",
       "      <td>0</td>\n",
       "      <td>224390</td>\n",
       "      <td>295240</td>\n",
       "      <td>0</td>\n",
       "      <td>0</td>\n",
       "    </tr>\n",
       "  </tbody>\n",
       "</table>\n",
       "</div>"
      ],
      "text/plain": [
       "                                  LoanID  \\\n",
       "2   4eed4e6a-aa2f-4c91-8651-ce984ee8fb26   \n",
       "6   273581de-85d8-4332-81a5-19b04ce68666   \n",
       "8   8af915d9-9e91-44a0-b5a2-564a45c12089   \n",
       "10  32c2e48f-1ba8-45e0-a530-9a6622c18d9c   \n",
       "12  403d7235-0284-4bb6-919a-09402fecbf7b   \n",
       "14  2e841c8f-3dc1-464d-91c1-3d3d51e64c38   \n",
       "17  24e8c8bd-d10b-4dac-8b81-1da470ff5ecb   \n",
       "20  150ebbad-ebed-441e-b70d-2f350ad7dca6   \n",
       "25  578c8e10-3214-4491-bdbc-b1695ef8ff87   \n",
       "28  ccc6dadf-7530-4ca6-a679-a228ae478b5d   \n",
       "\n",
       "                              CustomerID   LoanStatus  CurrentLoanAmount  \\\n",
       "2   5efb2b2b-bf11-4dfd-a572-3761a2694725   Fully Paid           99999999   \n",
       "6   90a75dde-34d5-419c-90dc-1e58b04b3e35   Fully Paid             217646   \n",
       "8   af534dea-d27e-4fd6-9de8-efaa52a78ec0   Fully Paid             548746   \n",
       "10  0de7bcdb-ebf4-4608-ba39-05f083f855b6   Fully Paid           99999999   \n",
       "12  11581f68-de3c-49d8-80d9-22268ebb323b   Fully Paid           99999999   \n",
       "14  2ac05980-7848-4692-89ae-9321afe650f8   Fully Paid             234124   \n",
       "17  967e8733-7189-49b7-a3ab-6a1d0e1abdac   Fully Paid             666204   \n",
       "20  40f729c9-54c7-4768-9fb5-2fa41d074c48  Charged Off             317108   \n",
       "25  cbe53e22-ba67-4eaf-a4fb-c5acdd12ec66   Fully Paid             465410   \n",
       "28  689da294-ff83-4d49-986a-c61887f6d4e2   Fully Paid           99999999   \n",
       "\n",
       "          Term  CreditScore  AnnualIncome Yearsincurrentjob  HomeOwnership  \\\n",
       "2   Short Term        741.0     2231892.0           8 years       Own Home   \n",
       "6   Short Term        730.0     1184194.0          < 1 year  Home Mortgage   \n",
       "8   Short Term        678.0     2559110.0           2 years           Rent   \n",
       "10  Short Term        728.0      714628.0           3 years           Rent   \n",
       "12  Short Term        740.0      776188.0          < 1 year       Own Home   \n",
       "14  Short Term        727.0      693234.0         10+ years           Rent   \n",
       "17   Long Term        723.0     1821967.0         10+ years  Home Mortgage   \n",
       "20   Long Term        687.0     1133274.0           8 years           Rent   \n",
       "25   Long Term        688.0     1722654.0           3 years           Rent   \n",
       "28  Short Term        746.0     1749748.0         10+ years  Home Mortgage   \n",
       "\n",
       "               Purpose  MonthlyDebt  YearsofCreditHistory  \\\n",
       "2   Debt Consolidation     29200.53                  14.9   \n",
       "6   Debt Consolidation     10855.08                  19.6   \n",
       "8   Debt Consolidation     18660.28                  22.6   \n",
       "10  Debt Consolidation     11851.06                  16.0   \n",
       "12  Debt Consolidation     11578.22                   8.5   \n",
       "14  Debt Consolidation     14211.24                  24.7   \n",
       "17  Debt Consolidation     17612.24                  22.0   \n",
       "20  Debt Consolidation      9632.81                  17.4   \n",
       "25           Buy House     15647.45                  22.3   \n",
       "28  Debt Consolidation     19247.19                  20.0   \n",
       "\n",
       "    Monthssincelastdelinquent  NumberofOpenAccounts  NumberofCreditProblems  \\\n",
       "2                        29.0                    18                       1   \n",
       "6                        10.0                    13                       1   \n",
       "8                        33.0                     4                       0   \n",
       "10                       76.0                    16                       0   \n",
       "12                       25.0                     6                       0   \n",
       "14                       46.0                    10                       1   \n",
       "17                       34.0                    15                       0   \n",
       "20                       53.0                     4                       0   \n",
       "25                       30.0                     7                       0   \n",
       "28                       32.0                    17                       0   \n",
       "\n",
       "    CurrentCreditBalance  MaximumOpenCredit  Bankruptcies  TaxLiens  \n",
       "2                 297996             750090             0         0  \n",
       "6                 122170             272052             1         0  \n",
       "8                 437171             555038             0         0  \n",
       "10                203965             289784             0         0  \n",
       "12                134083             220220             0         0  \n",
       "14                 28291             107052             1         0  \n",
       "17                813694            2004618             0         0  \n",
       "20                 60287             126940             0         0  \n",
       "25                107559             488356             0         0  \n",
       "28                224390             295240             0         0  "
      ]
     },
     "execution_count": 743,
     "metadata": {},
     "output_type": "execute_result"
    }
   ],
   "source": [
    "loan_status = pd.read_csv('/home/bhavani/SecureT/credit_train.csv',header = 0,nrows=60)\n",
    "loan_status = loan_status.dropna()\n",
    "loan_status.columns = loan_status.columns.str.replace(' ', '')\n",
    "loan_status.head(10)\n"
   ]
  },
  {
   "cell_type": "code",
   "execution_count": 719,
   "metadata": {
    "scrolled": true
   },
   "outputs": [
    {
     "name": "stdout",
     "output_type": "stream",
     "text": [
      "Number of customers:21\n",
      "['LoanID', 'CustomerID', 'LoanStatus', 'CurrentLoanAmount', 'Term', 'CreditScore', 'AnnualIncome', 'Yearsincurrentjob', 'HomeOwnership', 'Purpose', 'MonthlyDebt', 'YearsofCreditHistory', 'Monthssincelastdelinquent', 'NumberofOpenAccounts', 'NumberofCreditProblems', 'CurrentCreditBalance', 'MaximumOpenCredit', 'Bankruptcies', 'TaxLiens']\n"
     ]
    }
   ],
   "source": [
    "print('Number of customers:'+str(len(loan_status.index)))\n",
    "print(list(loan_status.columns))"
   ]
  },
  {
   "cell_type": "code",
   "execution_count": 720,
   "metadata": {},
   "outputs": [
    {
     "data": {
      "text/plain": [
       "(21, 19)"
      ]
     },
     "execution_count": 720,
     "metadata": {},
     "output_type": "execute_result"
    }
   ],
   "source": [
    "loan_status.shape"
   ]
  },
  {
   "cell_type": "code",
   "execution_count": 745,
   "metadata": {},
   "outputs": [
    {
     "name": "stdout",
     "output_type": "stream",
     "text": [
      "Response rate----\n",
      "Fully Paid     76.190476\n",
      "Charged Off    23.809524\n",
      "Name: LoanStatus, dtype: float64\n"
     ]
    }
   ],
   "source": [
    "print(\"Response rate----\")\n",
    "print(loan_status['LoanStatus'].value_counts()/loan_status.shape[0]*100)"
   ]
  },
  {
   "cell_type": "markdown",
   "metadata": {},
   "source": [
    "# Analyse"
   ]
  },
  {
   "cell_type": "code",
   "execution_count": 721,
   "metadata": {},
   "outputs": [
    {
     "data": {
      "text/plain": [
       "<matplotlib.axes._subplots.AxesSubplot at 0x7ffb74b50048>"
      ]
     },
     "execution_count": 721,
     "metadata": {},
     "output_type": "execute_result"
    },
    {
     "data": {
      "image/png": "[encoded data removed]",
      "text/plain": [
       "<Figure size 432x288 with 1 Axes>"
      ]
     },
     "metadata": {
      "needs_background": "light"
     },
     "output_type": "display_data"
    }
   ],
   "source": [
    "sns.countplot(x = 'LoanStatus', data = loan_status)"
   ]
  },
  {
   "cell_type": "code",
   "execution_count": 744,
   "metadata": {},
   "outputs": [
    {
     "data": {
      "text/plain": [
       "<matplotlib.axes._subplots.AxesSubplot at 0x7ffb73fdd2e8>"
      ]
     },
     "execution_count": 744,
     "metadata": {},
     "output_type": "execute_result"
    },
    {
     "data": {
      "image/png": "[encoded data removed]",
      "text/plain": [
       "<Figure size 432x288 with 1 Axes>"
      ]
     },
     "metadata": {
      "needs_background": "light"
     },
     "output_type": "display_data"
    }
   ],
   "source": [
    "sns.countplot(x = 'LoanStatus', hue ='AnnualIncome', data=loan_status)"
   ]
  },
  {
   "cell_type": "code",
   "execution_count": 746,
   "metadata": {},
   "outputs": [
    {
     "data": {
      "text/plain": [
       "<matplotlib.axes._subplots.AxesSubplot at 0x7ffb73ec8f98>"
      ]
     },
     "execution_count": 746,
     "metadata": {},
     "output_type": "execute_result"
    },
    {
     "data": {
      "image/png": "[encoded data removed]",
      "text/plain": [
       "<Figure size 432x288 with 1 Axes>"
      ]
     },
     "metadata": {
      "needs_background": "light"
     },
     "output_type": "display_data"
    }
   ],
   "source": [
    "sns.countplot(x = 'LoanStatus', hue ='CurrentLoanAmount', data=loan_status)"
   ]
  },
  {
   "cell_type": "code",
   "execution_count": 747,
   "metadata": {},
   "outputs": [
    {
     "data": {
      "text/plain": [
       "<matplotlib.axes._subplots.AxesSubplot at 0x7ffb73e171d0>"
      ]
     },
     "execution_count": 747,
     "metadata": {},
     "output_type": "execute_result"
    },
    {
     "data": {
      "image/png": "[encoded data removed]",
      "text/plain": [
       "<Figure size 432x288 with 1 Axes>"
      ]
     },
     "metadata": {
      "needs_background": "light"
     },
     "output_type": "display_data"
    }
   ],
   "source": [
    "sns.countplot(x = 'LoanStatus', hue ='Term', data=loan_status)"
   ]
  },
  {
   "cell_type": "code",
   "execution_count": 748,
   "metadata": {},
   "outputs": [
    {
     "data": {
      "text/plain": [
       "<matplotlib.axes._subplots.AxesSubplot at 0x7ffb73d82710>"
      ]
     },
     "execution_count": 748,
     "metadata": {},
     "output_type": "execute_result"
    },
    {
     "data": {
      "image/png": "[encoded data removed]",
      "text/plain": [
       "<Figure size 432x288 with 1 Axes>"
      ]
     },
     "metadata": {
      "needs_background": "light"
     },
     "output_type": "display_data"
    }
   ],
   "source": [
    "sns.countplot(x = 'LoanStatus', hue ='CreditScore', data=loan_status)"
   ]
  },
  {
   "cell_type": "code",
   "execution_count": 749,
   "metadata": {},
   "outputs": [
    {
     "data": {
      "text/plain": [
       "<matplotlib.axes._subplots.AxesSubplot at 0x7ffb73d32d68>"
      ]
     },
     "execution_count": 749,
     "metadata": {},
     "output_type": "execute_result"
    },
    {
     "data": {
      "image/png": "[encoded data removed]",
      "text/plain": [
       "<Figure size 432x288 with 1 Axes>"
      ]
     },
     "metadata": {
      "needs_background": "light"
     },
     "output_type": "display_data"
    }
   ],
   "source": [
    "sns.countplot(x = 'LoanStatus', hue ='Yearsincurrentjob', data=loan_status)"
   ]
  },
  {
   "cell_type": "code",
   "execution_count": 750,
   "metadata": {},
   "outputs": [
    {
     "data": {
      "text/plain": [
       "<matplotlib.axes._subplots.AxesSubplot at 0x7ffb73c4c908>"
      ]
     },
     "execution_count": 750,
     "metadata": {},
     "output_type": "execute_result"
    },
    {
     "data": {
      "image/png": "[encoded data removed]",
      "text/plain": [
       "<Figure size 432x288 with 1 Axes>"
      ]
     },
     "metadata": {
      "needs_background": "light"
     },
     "output_type": "display_data"
    }
   ],
   "source": [
    "sns.countplot(x = 'LoanStatus', hue ='HomeOwnership', data=loan_status)"
   ]
  },
  {
   "cell_type": "code",
   "execution_count": 751,
   "metadata": {},
   "outputs": [
    {
     "data": {
      "text/plain": [
       "<matplotlib.axes._subplots.AxesSubplot at 0x7ffb73c2fa90>"
      ]
     },
     "execution_count": 751,
     "metadata": {},
     "output_type": "execute_result"
    },
    {
     "data": {
      "image/png": "[encoded data removed]",
      "text/plain": [
       "<Figure size 432x288 with 1 Axes>"
      ]
     },
     "metadata": {
      "needs_background": "light"
     },
     "output_type": "display_data"
    }
   ],
   "source": [
    "sns.countplot(x = 'LoanStatus', hue ='Purpose', data=loan_status)"
   ]
  },
  {
   "cell_type": "code",
   "execution_count": 762,
   "metadata": {},
   "outputs": [
    {
     "data": {
      "text/plain": [
       "<matplotlib.axes._subplots.AxesSubplot at 0x7ffb738804a8>"
      ]
     },
     "execution_count": 762,
     "metadata": {},
     "output_type": "execute_result"
    },
    {
     "data": {
      "image/png": "[encoded data removed]",
      "text/plain": [
       "<Figure size 432x288 with 1 Axes>"
      ]
     },
     "metadata": {
      "needs_background": "light"
     },
     "output_type": "display_data"
    }
   ],
   "source": [
    "sns.countplot(x = 'LoanStatus', hue ='NumberofOpenAccounts', data=loan_status)"
   ]
  },
  {
   "cell_type": "code",
   "execution_count": 763,
   "metadata": {},
   "outputs": [
    {
     "data": {
      "text/plain": [
       "<matplotlib.axes._subplots.AxesSubplot at 0x7ffb73824668>"
      ]
     },
     "execution_count": 763,
     "metadata": {},
     "output_type": "execute_result"
    },
    {
     "data": {
      "image/png": "[encoded data removed]",
      "text/plain": [
       "<Figure size 432x288 with 1 Axes>"
      ]
     },
     "metadata": {
      "needs_background": "light"
     },
     "output_type": "display_data"
    }
   ],
   "source": [
    "sns.countplot(x = 'LoanStatus', hue ='Monthssincelastdelinquent', data=loan_status)"
   ]
  },
  {
   "cell_type": "code",
   "execution_count": 765,
   "metadata": {},
   "outputs": [
    {
     "data": {
      "text/plain": [
       "<matplotlib.axes._subplots.AxesSubplot at 0x7ffb7371c588>"
      ]
     },
     "execution_count": 765,
     "metadata": {},
     "output_type": "execute_result"
    },
    {
     "data": {
      "image/png": "[encoded data removed]",
      "text/plain": [
       "<Figure size 432x288 with 1 Axes>"
      ]
     },
     "metadata": {
      "needs_background": "light"
     },
     "output_type": "display_data"
    }
   ],
   "source": [
    "sns.countplot(x = 'LoanStatus', hue ='MonthlyDebt', data=loan_status)"
   ]
  },
  {
   "cell_type": "code",
   "execution_count": 760,
   "metadata": {},
   "outputs": [
    {
     "data": {
      "text/plain": [
       "<matplotlib.axes._subplots.AxesSubplot at 0x7ffb73928198>"
      ]
     },
     "execution_count": 760,
     "metadata": {},
     "output_type": "execute_result"
    },
    {
     "data": {
      "image/png": "[encoded data removed]",
      "text/plain": [
       "<Figure size 432x288 with 1 Axes>"
      ]
     },
     "metadata": {
      "needs_background": "light"
     },
     "output_type": "display_data"
    }
   ],
   "source": [
    "sns.countplot(x = 'LoanStatus', hue ='NumberofCreditProblems', data=loan_status)"
   ]
  },
  {
   "cell_type": "code",
   "execution_count": 757,
   "metadata": {},
   "outputs": [
    {
     "data": {
      "text/plain": [
       "<matplotlib.axes._subplots.AxesSubplot at 0x7ffb73a25da0>"
      ]
     },
     "execution_count": 757,
     "metadata": {},
     "output_type": "execute_result"
    },
    {
     "data": {
      "image/png": "[encoded data removed]",
      "text/plain": [
       "<Figure size 432x288 with 1 Axes>"
      ]
     },
     "metadata": {
      "needs_background": "light"
     },
     "output_type": "display_data"
    }
   ],
   "source": [
    "sns.countplot(x = 'LoanStatus', hue ='CurrentCreditBalance', data=loan_status)"
   ]
  },
  {
   "cell_type": "code",
   "execution_count": 756,
   "metadata": {},
   "outputs": [
    {
     "data": {
      "text/plain": [
       "<matplotlib.axes._subplots.AxesSubplot at 0x7ffb73ad5a90>"
      ]
     },
     "execution_count": 756,
     "metadata": {},
     "output_type": "execute_result"
    },
    {
     "data": {
      "image/png": "[encoded data removed]",
      "text/plain": [
       "<Figure size 432x288 with 1 Axes>"
      ]
     },
     "metadata": {
      "needs_background": "light"
     },
     "output_type": "display_data"
    }
   ],
   "source": [
    "sns.countplot(x = 'LoanStatus', hue ='MaximumOpenCredit', data=loan_status)"
   ]
  },
  {
   "cell_type": "code",
   "execution_count": 755,
   "metadata": {},
   "outputs": [
    {
     "data": {
      "text/plain": [
       "<matplotlib.axes._subplots.AxesSubplot at 0x7ffb73b703c8>"
      ]
     },
     "execution_count": 755,
     "metadata": {},
     "output_type": "execute_result"
    },
    {
     "data": {
      "image/png": "[encoded data removed]",
      "text/plain": [
       "<Figure size 432x288 with 1 Axes>"
      ]
     },
     "metadata": {
      "needs_background": "light"
     },
     "output_type": "display_data"
    }
   ],
   "source": [
    "sns.countplot(x = 'LoanStatus', hue ='Bankruptcies', data=loan_status)"
   ]
  },
  {
   "cell_type": "code",
   "execution_count": 752,
   "metadata": {},
   "outputs": [
    {
     "data": {
      "text/plain": [
       "<matplotlib.axes._subplots.AxesSubplot at 0x7ffb73b933c8>"
      ]
     },
     "execution_count": 752,
     "metadata": {},
     "output_type": "execute_result"
    },
    {
     "data": {
      "image/png": "[encoded data removed]",
      "text/plain": [
       "<Figure size 432x288 with 1 Axes>"
      ]
     },
     "metadata": {
      "needs_background": "light"
     },
     "output_type": "display_data"
    }
   ],
   "source": [
    "sns.countplot(x = 'LoanStatus', hue ='TaxLiens', data=loan_status)"
   ]
  },
  {
   "cell_type": "code",
   "execution_count": 767,
   "metadata": {},
   "outputs": [
    {
     "name": "stdout",
     "output_type": "stream",
     "text": [
      "<class 'pandas.core.frame.DataFrame'>\n",
      "Int64Index: 21 entries, 2 to 59\n",
      "Data columns (total 19 columns):\n",
      "LoanID                       21 non-null object\n",
      "CustomerID                   21 non-null object\n",
      "LoanStatus                   21 non-null object\n",
      "CurrentLoanAmount            21 non-null int64\n",
      "Term                         21 non-null object\n",
      "CreditScore                  21 non-null float64\n",
      "AnnualIncome                 21 non-null float64\n",
      "Yearsincurrentjob            21 non-null object\n",
      "HomeOwnership                21 non-null object\n",
      "Purpose                      21 non-null object\n",
      "MonthlyDebt                  21 non-null float64\n",
      "YearsofCreditHistory         21 non-null float64\n",
      "Monthssincelastdelinquent    21 non-null float64\n",
      "NumberofOpenAccounts         21 non-null int64\n",
      "NumberofCreditProblems       21 non-null int64\n",
      "CurrentCreditBalance         21 non-null int64\n",
      "MaximumOpenCredit            21 non-null int64\n",
      "Bankruptcies                 21 non-null int64\n",
      "TaxLiens                     21 non-null int64\n",
      "dtypes: float64(5), int64(7), object(7)\n",
      "memory usage: 3.9+ KB\n"
     ]
    }
   ],
   "source": [
    "loan_status.info()"
   ]
  },
  {
   "cell_type": "markdown",
   "metadata": {},
   "source": [
    "# Data Wrangling"
   ]
  },
  {
   "cell_type": "code",
   "execution_count": 769,
   "metadata": {},
   "outputs": [
    {
     "data": {
      "text/html": [
       "<div>\n",
       "<style scoped>\n",
       "    .dataframe tbody tr th:only-of-type {\n",
       "        vertical-align: middle;\n",
       "    }\n",
       "\n",
       "    .dataframe tbody tr th {\n",
       "        vertical-align: top;\n",
       "    }\n",
       "\n",
       "    .dataframe thead th {\n",
       "        text-align: right;\n",
       "    }\n",
       "</style>\n",
       "<table border=\"1\" class=\"dataframe\">\n",
       "  <thead>\n",
       "    <tr style=\"text-align: right;\">\n",
       "      <th></th>\n",
       "      <th>LoanID</th>\n",
       "      <th>CustomerID</th>\n",
       "      <th>LoanStatus</th>\n",
       "      <th>CurrentLoanAmount</th>\n",
       "      <th>Term</th>\n",
       "      <th>CreditScore</th>\n",
       "      <th>AnnualIncome</th>\n",
       "      <th>Yearsincurrentjob</th>\n",
       "      <th>HomeOwnership</th>\n",
       "      <th>Purpose</th>\n",
       "      <th>MonthlyDebt</th>\n",
       "      <th>YearsofCreditHistory</th>\n",
       "      <th>Monthssincelastdelinquent</th>\n",
       "      <th>NumberofOpenAccounts</th>\n",
       "      <th>NumberofCreditProblems</th>\n",
       "      <th>CurrentCreditBalance</th>\n",
       "      <th>MaximumOpenCredit</th>\n",
       "      <th>Bankruptcies</th>\n",
       "      <th>TaxLiens</th>\n",
       "    </tr>\n",
       "  </thead>\n",
       "  <tbody>\n",
       "    <tr>\n",
       "      <th>2</th>\n",
       "      <td>False</td>\n",
       "      <td>False</td>\n",
       "      <td>False</td>\n",
       "      <td>False</td>\n",
       "      <td>False</td>\n",
       "      <td>False</td>\n",
       "      <td>False</td>\n",
       "      <td>False</td>\n",
       "      <td>False</td>\n",
       "      <td>False</td>\n",
       "      <td>False</td>\n",
       "      <td>False</td>\n",
       "      <td>False</td>\n",
       "      <td>False</td>\n",
       "      <td>False</td>\n",
       "      <td>False</td>\n",
       "      <td>False</td>\n",
       "      <td>False</td>\n",
       "      <td>False</td>\n",
       "    </tr>\n",
       "    <tr>\n",
       "      <th>6</th>\n",
       "      <td>False</td>\n",
       "      <td>False</td>\n",
       "      <td>False</td>\n",
       "      <td>False</td>\n",
       "      <td>False</td>\n",
       "      <td>False</td>\n",
       "      <td>False</td>\n",
       "      <td>False</td>\n",
       "      <td>False</td>\n",
       "      <td>False</td>\n",
       "      <td>False</td>\n",
       "      <td>False</td>\n",
       "      <td>False</td>\n",
       "      <td>False</td>\n",
       "      <td>False</td>\n",
       "      <td>False</td>\n",
       "      <td>False</td>\n",
       "      <td>False</td>\n",
       "      <td>False</td>\n",
       "    </tr>\n",
       "    <tr>\n",
       "      <th>8</th>\n",
       "      <td>False</td>\n",
       "      <td>False</td>\n",
       "      <td>False</td>\n",
       "      <td>False</td>\n",
       "      <td>False</td>\n",
       "      <td>False</td>\n",
       "      <td>False</td>\n",
       "      <td>False</td>\n",
       "      <td>False</td>\n",
       "      <td>False</td>\n",
       "      <td>False</td>\n",
       "      <td>False</td>\n",
       "      <td>False</td>\n",
       "      <td>False</td>\n",
       "      <td>False</td>\n",
       "      <td>False</td>\n",
       "      <td>False</td>\n",
       "      <td>False</td>\n",
       "      <td>False</td>\n",
       "    </tr>\n",
       "    <tr>\n",
       "      <th>10</th>\n",
       "      <td>False</td>\n",
       "      <td>False</td>\n",
       "      <td>False</td>\n",
       "      <td>False</td>\n",
       "      <td>False</td>\n",
       "      <td>False</td>\n",
       "      <td>False</td>\n",
       "      <td>False</td>\n",
       "      <td>False</td>\n",
       "      <td>False</td>\n",
       "      <td>False</td>\n",
       "      <td>False</td>\n",
       "      <td>False</td>\n",
       "      <td>False</td>\n",
       "      <td>False</td>\n",
       "      <td>False</td>\n",
       "      <td>False</td>\n",
       "      <td>False</td>\n",
       "      <td>False</td>\n",
       "    </tr>\n",
       "    <tr>\n",
       "      <th>12</th>\n",
       "      <td>False</td>\n",
       "      <td>False</td>\n",
       "      <td>False</td>\n",
       "      <td>False</td>\n",
       "      <td>False</td>\n",
       "      <td>False</td>\n",
       "      <td>False</td>\n",
       "      <td>False</td>\n",
       "      <td>False</td>\n",
       "      <td>False</td>\n",
       "      <td>False</td>\n",
       "      <td>False</td>\n",
       "      <td>False</td>\n",
       "      <td>False</td>\n",
       "      <td>False</td>\n",
       "      <td>False</td>\n",
       "      <td>False</td>\n",
       "      <td>False</td>\n",
       "      <td>False</td>\n",
       "    </tr>\n",
       "    <tr>\n",
       "      <th>14</th>\n",
       "      <td>False</td>\n",
       "      <td>False</td>\n",
       "      <td>False</td>\n",
       "      <td>False</td>\n",
       "      <td>False</td>\n",
       "      <td>False</td>\n",
       "      <td>False</td>\n",
       "      <td>False</td>\n",
       "      <td>False</td>\n",
       "      <td>False</td>\n",
       "      <td>False</td>\n",
       "      <td>False</td>\n",
       "      <td>False</td>\n",
       "      <td>False</td>\n",
       "      <td>False</td>\n",
       "      <td>False</td>\n",
       "      <td>False</td>\n",
       "      <td>False</td>\n",
       "      <td>False</td>\n",
       "    </tr>\n",
       "    <tr>\n",
       "      <th>17</th>\n",
       "      <td>False</td>\n",
       "      <td>False</td>\n",
       "      <td>False</td>\n",
       "      <td>False</td>\n",
       "      <td>False</td>\n",
       "      <td>False</td>\n",
       "      <td>False</td>\n",
       "      <td>False</td>\n",
       "      <td>False</td>\n",
       "      <td>False</td>\n",
       "      <td>False</td>\n",
       "      <td>False</td>\n",
       "      <td>False</td>\n",
       "      <td>False</td>\n",
       "      <td>False</td>\n",
       "      <td>False</td>\n",
       "      <td>False</td>\n",
       "      <td>False</td>\n",
       "      <td>False</td>\n",
       "    </tr>\n",
       "    <tr>\n",
       "      <th>20</th>\n",
       "      <td>False</td>\n",
       "      <td>False</td>\n",
       "      <td>False</td>\n",
       "      <td>False</td>\n",
       "      <td>False</td>\n",
       "      <td>False</td>\n",
       "      <td>False</td>\n",
       "      <td>False</td>\n",
       "      <td>False</td>\n",
       "      <td>False</td>\n",
       "      <td>False</td>\n",
       "      <td>False</td>\n",
       "      <td>False</td>\n",
       "      <td>False</td>\n",
       "      <td>False</td>\n",
       "      <td>False</td>\n",
       "      <td>False</td>\n",
       "      <td>False</td>\n",
       "      <td>False</td>\n",
       "    </tr>\n",
       "    <tr>\n",
       "      <th>25</th>\n",
       "      <td>False</td>\n",
       "      <td>False</td>\n",
       "      <td>False</td>\n",
       "      <td>False</td>\n",
       "      <td>False</td>\n",
       "      <td>False</td>\n",
       "      <td>False</td>\n",
       "      <td>False</td>\n",
       "      <td>False</td>\n",
       "      <td>False</td>\n",
       "      <td>False</td>\n",
       "      <td>False</td>\n",
       "      <td>False</td>\n",
       "      <td>False</td>\n",
       "      <td>False</td>\n",
       "      <td>False</td>\n",
       "      <td>False</td>\n",
       "      <td>False</td>\n",
       "      <td>False</td>\n",
       "    </tr>\n",
       "    <tr>\n",
       "      <th>28</th>\n",
       "      <td>False</td>\n",
       "      <td>False</td>\n",
       "      <td>False</td>\n",
       "      <td>False</td>\n",
       "      <td>False</td>\n",
       "      <td>False</td>\n",
       "      <td>False</td>\n",
       "      <td>False</td>\n",
       "      <td>False</td>\n",
       "      <td>False</td>\n",
       "      <td>False</td>\n",
       "      <td>False</td>\n",
       "      <td>False</td>\n",
       "      <td>False</td>\n",
       "      <td>False</td>\n",
       "      <td>False</td>\n",
       "      <td>False</td>\n",
       "      <td>False</td>\n",
       "      <td>False</td>\n",
       "    </tr>\n",
       "    <tr>\n",
       "      <th>39</th>\n",
       "      <td>False</td>\n",
       "      <td>False</td>\n",
       "      <td>False</td>\n",
       "      <td>False</td>\n",
       "      <td>False</td>\n",
       "      <td>False</td>\n",
       "      <td>False</td>\n",
       "      <td>False</td>\n",
       "      <td>False</td>\n",
       "      <td>False</td>\n",
       "      <td>False</td>\n",
       "      <td>False</td>\n",
       "      <td>False</td>\n",
       "      <td>False</td>\n",
       "      <td>False</td>\n",
       "      <td>False</td>\n",
       "      <td>False</td>\n",
       "      <td>False</td>\n",
       "      <td>False</td>\n",
       "    </tr>\n",
       "    <tr>\n",
       "      <th>40</th>\n",
       "      <td>False</td>\n",
       "      <td>False</td>\n",
       "      <td>False</td>\n",
       "      <td>False</td>\n",
       "      <td>False</td>\n",
       "      <td>False</td>\n",
       "      <td>False</td>\n",
       "      <td>False</td>\n",
       "      <td>False</td>\n",
       "      <td>False</td>\n",
       "      <td>False</td>\n",
       "      <td>False</td>\n",
       "      <td>False</td>\n",
       "      <td>False</td>\n",
       "      <td>False</td>\n",
       "      <td>False</td>\n",
       "      <td>False</td>\n",
       "      <td>False</td>\n",
       "      <td>False</td>\n",
       "    </tr>\n",
       "    <tr>\n",
       "      <th>44</th>\n",
       "      <td>False</td>\n",
       "      <td>False</td>\n",
       "      <td>False</td>\n",
       "      <td>False</td>\n",
       "      <td>False</td>\n",
       "      <td>False</td>\n",
       "      <td>False</td>\n",
       "      <td>False</td>\n",
       "      <td>False</td>\n",
       "      <td>False</td>\n",
       "      <td>False</td>\n",
       "      <td>False</td>\n",
       "      <td>False</td>\n",
       "      <td>False</td>\n",
       "      <td>False</td>\n",
       "      <td>False</td>\n",
       "      <td>False</td>\n",
       "      <td>False</td>\n",
       "      <td>False</td>\n",
       "    </tr>\n",
       "    <tr>\n",
       "      <th>46</th>\n",
       "      <td>False</td>\n",
       "      <td>False</td>\n",
       "      <td>False</td>\n",
       "      <td>False</td>\n",
       "      <td>False</td>\n",
       "      <td>False</td>\n",
       "      <td>False</td>\n",
       "      <td>False</td>\n",
       "      <td>False</td>\n",
       "      <td>False</td>\n",
       "      <td>False</td>\n",
       "      <td>False</td>\n",
       "      <td>False</td>\n",
       "      <td>False</td>\n",
       "      <td>False</td>\n",
       "      <td>False</td>\n",
       "      <td>False</td>\n",
       "      <td>False</td>\n",
       "      <td>False</td>\n",
       "    </tr>\n",
       "    <tr>\n",
       "      <th>47</th>\n",
       "      <td>False</td>\n",
       "      <td>False</td>\n",
       "      <td>False</td>\n",
       "      <td>False</td>\n",
       "      <td>False</td>\n",
       "      <td>False</td>\n",
       "      <td>False</td>\n",
       "      <td>False</td>\n",
       "      <td>False</td>\n",
       "      <td>False</td>\n",
       "      <td>False</td>\n",
       "      <td>False</td>\n",
       "      <td>False</td>\n",
       "      <td>False</td>\n",
       "      <td>False</td>\n",
       "      <td>False</td>\n",
       "      <td>False</td>\n",
       "      <td>False</td>\n",
       "      <td>False</td>\n",
       "    </tr>\n",
       "    <tr>\n",
       "      <th>51</th>\n",
       "      <td>False</td>\n",
       "      <td>False</td>\n",
       "      <td>False</td>\n",
       "      <td>False</td>\n",
       "      <td>False</td>\n",
       "      <td>False</td>\n",
       "      <td>False</td>\n",
       "      <td>False</td>\n",
       "      <td>False</td>\n",
       "      <td>False</td>\n",
       "      <td>False</td>\n",
       "      <td>False</td>\n",
       "      <td>False</td>\n",
       "      <td>False</td>\n",
       "      <td>False</td>\n",
       "      <td>False</td>\n",
       "      <td>False</td>\n",
       "      <td>False</td>\n",
       "      <td>False</td>\n",
       "    </tr>\n",
       "    <tr>\n",
       "      <th>53</th>\n",
       "      <td>False</td>\n",
       "      <td>False</td>\n",
       "      <td>False</td>\n",
       "      <td>False</td>\n",
       "      <td>False</td>\n",
       "      <td>False</td>\n",
       "      <td>False</td>\n",
       "      <td>False</td>\n",
       "      <td>False</td>\n",
       "      <td>False</td>\n",
       "      <td>False</td>\n",
       "      <td>False</td>\n",
       "      <td>False</td>\n",
       "      <td>False</td>\n",
       "      <td>False</td>\n",
       "      <td>False</td>\n",
       "      <td>False</td>\n",
       "      <td>False</td>\n",
       "      <td>False</td>\n",
       "    </tr>\n",
       "    <tr>\n",
       "      <th>54</th>\n",
       "      <td>False</td>\n",
       "      <td>False</td>\n",
       "      <td>False</td>\n",
       "      <td>False</td>\n",
       "      <td>False</td>\n",
       "      <td>False</td>\n",
       "      <td>False</td>\n",
       "      <td>False</td>\n",
       "      <td>False</td>\n",
       "      <td>False</td>\n",
       "      <td>False</td>\n",
       "      <td>False</td>\n",
       "      <td>False</td>\n",
       "      <td>False</td>\n",
       "      <td>False</td>\n",
       "      <td>False</td>\n",
       "      <td>False</td>\n",
       "      <td>False</td>\n",
       "      <td>False</td>\n",
       "    </tr>\n",
       "    <tr>\n",
       "      <th>55</th>\n",
       "      <td>False</td>\n",
       "      <td>False</td>\n",
       "      <td>False</td>\n",
       "      <td>False</td>\n",
       "      <td>False</td>\n",
       "      <td>False</td>\n",
       "      <td>False</td>\n",
       "      <td>False</td>\n",
       "      <td>False</td>\n",
       "      <td>False</td>\n",
       "      <td>False</td>\n",
       "      <td>False</td>\n",
       "      <td>False</td>\n",
       "      <td>False</td>\n",
       "      <td>False</td>\n",
       "      <td>False</td>\n",
       "      <td>False</td>\n",
       "      <td>False</td>\n",
       "      <td>False</td>\n",
       "    </tr>\n",
       "    <tr>\n",
       "      <th>58</th>\n",
       "      <td>False</td>\n",
       "      <td>False</td>\n",
       "      <td>False</td>\n",
       "      <td>False</td>\n",
       "      <td>False</td>\n",
       "      <td>False</td>\n",
       "      <td>False</td>\n",
       "      <td>False</td>\n",
       "      <td>False</td>\n",
       "      <td>False</td>\n",
       "      <td>False</td>\n",
       "      <td>False</td>\n",
       "      <td>False</td>\n",
       "      <td>False</td>\n",
       "      <td>False</td>\n",
       "      <td>False</td>\n",
       "      <td>False</td>\n",
       "      <td>False</td>\n",
       "      <td>False</td>\n",
       "    </tr>\n",
       "    <tr>\n",
       "      <th>59</th>\n",
       "      <td>False</td>\n",
       "      <td>False</td>\n",
       "      <td>False</td>\n",
       "      <td>False</td>\n",
       "      <td>False</td>\n",
       "      <td>False</td>\n",
       "      <td>False</td>\n",
       "      <td>False</td>\n",
       "      <td>False</td>\n",
       "      <td>False</td>\n",
       "      <td>False</td>\n",
       "      <td>False</td>\n",
       "      <td>False</td>\n",
       "      <td>False</td>\n",
       "      <td>False</td>\n",
       "      <td>False</td>\n",
       "      <td>False</td>\n",
       "      <td>False</td>\n",
       "      <td>False</td>\n",
       "    </tr>\n",
       "  </tbody>\n",
       "</table>\n",
       "</div>"
      ],
      "text/plain": [
       "    LoanID  CustomerID  LoanStatus  CurrentLoanAmount   Term  CreditScore  \\\n",
       "2    False       False       False              False  False        False   \n",
       "6    False       False       False              False  False        False   \n",
       "8    False       False       False              False  False        False   \n",
       "10   False       False       False              False  False        False   \n",
       "12   False       False       False              False  False        False   \n",
       "14   False       False       False              False  False        False   \n",
       "17   False       False       False              False  False        False   \n",
       "20   False       False       False              False  False        False   \n",
       "25   False       False       False              False  False        False   \n",
       "28   False       False       False              False  False        False   \n",
       "39   False       False       False              False  False        False   \n",
       "40   False       False       False              False  False        False   \n",
       "44   False       False       False              False  False        False   \n",
       "46   False       False       False              False  False        False   \n",
       "47   False       False       False              False  False        False   \n",
       "51   False       False       False              False  False        False   \n",
       "53   False       False       False              False  False        False   \n",
       "54   False       False       False              False  False        False   \n",
       "55   False       False       False              False  False        False   \n",
       "58   False       False       False              False  False        False   \n",
       "59   False       False       False              False  False        False   \n",
       "\n",
       "    AnnualIncome  Yearsincurrentjob  HomeOwnership  Purpose  MonthlyDebt  \\\n",
       "2          False              False          False    False        False   \n",
       "6          False              False          False    False        False   \n",
       "8          False              False          False    False        False   \n",
       "10         False              False          False    False        False   \n",
       "12         False              False          False    False        False   \n",
       "14         False              False          False    False        False   \n",
       "17         False              False          False    False        False   \n",
       "20         False              False          False    False        False   \n",
       "25         False              False          False    False        False   \n",
       "28         False              False          False    False        False   \n",
       "39         False              False          False    False        False   \n",
       "40         False              False          False    False        False   \n",
       "44         False              False          False    False        False   \n",
       "46         False              False          False    False        False   \n",
       "47         False              False          False    False        False   \n",
       "51         False              False          False    False        False   \n",
       "53         False              False          False    False        False   \n",
       "54         False              False          False    False        False   \n",
       "55         False              False          False    False        False   \n",
       "58         False              False          False    False        False   \n",
       "59         False              False          False    False        False   \n",
       "\n",
       "    YearsofCreditHistory  Monthssincelastdelinquent  NumberofOpenAccounts  \\\n",
       "2                  False                      False                 False   \n",
       "6                  False                      False                 False   \n",
       "8                  False                      False                 False   \n",
       "10                 False                      False                 False   \n",
       "12                 False                      False                 False   \n",
       "14                 False                      False                 False   \n",
       "17                 False                      False                 False   \n",
       "20                 False                      False                 False   \n",
       "25                 False                      False                 False   \n",
       "28                 False                      False                 False   \n",
       "39                 False                      False                 False   \n",
       "40                 False                      False                 False   \n",
       "44                 False                      False                 False   \n",
       "46                 False                      False                 False   \n",
       "47                 False                      False                 False   \n",
       "51                 False                      False                 False   \n",
       "53                 False                      False                 False   \n",
       "54                 False                      False                 False   \n",
       "55                 False                      False                 False   \n",
       "58                 False                      False                 False   \n",
       "59                 False                      False                 False   \n",
       "\n",
       "    NumberofCreditProblems  CurrentCreditBalance  MaximumOpenCredit  \\\n",
       "2                    False                 False              False   \n",
       "6                    False                 False              False   \n",
       "8                    False                 False              False   \n",
       "10                   False                 False              False   \n",
       "12                   False                 False              False   \n",
       "14                   False                 False              False   \n",
       "17                   False                 False              False   \n",
       "20                   False                 False              False   \n",
       "25                   False                 False              False   \n",
       "28                   False                 False              False   \n",
       "39                   False                 False              False   \n",
       "40                   False                 False              False   \n",
       "44                   False                 False              False   \n",
       "46                   False                 False              False   \n",
       "47                   False                 False              False   \n",
       "51                   False                 False              False   \n",
       "53                   False                 False              False   \n",
       "54                   False                 False              False   \n",
       "55                   False                 False              False   \n",
       "58                   False                 False              False   \n",
       "59                   False                 False              False   \n",
       "\n",
       "    Bankruptcies  TaxLiens  \n",
       "2          False     False  \n",
       "6          False     False  \n",
       "8          False     False  \n",
       "10         False     False  \n",
       "12         False     False  \n",
       "14         False     False  \n",
       "17         False     False  \n",
       "20         False     False  \n",
       "25         False     False  \n",
       "28         False     False  \n",
       "39         False     False  \n",
       "40         False     False  \n",
       "44         False     False  \n",
       "46         False     False  \n",
       "47         False     False  \n",
       "51         False     False  \n",
       "53         False     False  \n",
       "54         False     False  \n",
       "55         False     False  \n",
       "58         False     False  \n",
       "59         False     False  "
      ]
     },
     "execution_count": 769,
     "metadata": {},
     "output_type": "execute_result"
    }
   ],
   "source": [
    "loan_status.isnull()"
   ]
  },
  {
   "cell_type": "code",
   "execution_count": 776,
   "metadata": {},
   "outputs": [],
   "source": [
    "loan_status.drop('LoanID', axis=1, inplace = True)\n",
    "loan_status.drop('CustomerID', axis=1, inplace = True)\n",
    "loan_status.drop('Bankruptcies', axis = 1, inplace = True)\n",
    "loan_status.drop('NumberofOpenAccounts', axis = 1, inplace = True)\n",
    "loan_status.drop('TaxLiens', axis = 1, inplace = True)"
   ]
  },
  {
   "cell_type": "code",
   "execution_count": 804,
   "metadata": {},
   "outputs": [
    {
     "data": {
      "text/html": [
       "<div>\n",
       "<style scoped>\n",
       "    .dataframe tbody tr th:only-of-type {\n",
       "        vertical-align: middle;\n",
       "    }\n",
       "\n",
       "    .dataframe tbody tr th {\n",
       "        vertical-align: top;\n",
       "    }\n",
       "\n",
       "    .dataframe thead th {\n",
       "        text-align: right;\n",
       "    }\n",
       "</style>\n",
       "<table border=\"1\" class=\"dataframe\">\n",
       "  <thead>\n",
       "    <tr style=\"text-align: right;\">\n",
       "      <th></th>\n",
       "      <th>LoanStatus</th>\n",
       "      <th>CurrentLoanAmount</th>\n",
       "      <th>Term</th>\n",
       "      <th>CreditScore</th>\n",
       "      <th>AnnualIncome</th>\n",
       "      <th>Yearsincurrentjob</th>\n",
       "      <th>HomeOwnership</th>\n",
       "      <th>Purpose</th>\n",
       "      <th>MonthlyDebt</th>\n",
       "      <th>YearsofCreditHistory</th>\n",
       "      <th>Monthssincelastdelinquent</th>\n",
       "      <th>NumberofCreditProblems</th>\n",
       "      <th>CurrentCreditBalance</th>\n",
       "      <th>MaximumOpenCredit</th>\n",
       "    </tr>\n",
       "  </thead>\n",
       "  <tbody>\n",
       "    <tr>\n",
       "      <th>2</th>\n",
       "      <td>Fully Paid</td>\n",
       "      <td>99999999</td>\n",
       "      <td>Short Term</td>\n",
       "      <td>741.0</td>\n",
       "      <td>2231892.0</td>\n",
       "      <td>8 years</td>\n",
       "      <td>Own Home</td>\n",
       "      <td>Debt Consolidation</td>\n",
       "      <td>29200.53</td>\n",
       "      <td>14.9</td>\n",
       "      <td>29.0</td>\n",
       "      <td>1</td>\n",
       "      <td>297996</td>\n",
       "      <td>750090</td>\n",
       "    </tr>\n",
       "    <tr>\n",
       "      <th>6</th>\n",
       "      <td>Fully Paid</td>\n",
       "      <td>217646</td>\n",
       "      <td>Short Term</td>\n",
       "      <td>730.0</td>\n",
       "      <td>1184194.0</td>\n",
       "      <td>&lt; 1 year</td>\n",
       "      <td>Home Mortgage</td>\n",
       "      <td>Debt Consolidation</td>\n",
       "      <td>10855.08</td>\n",
       "      <td>19.6</td>\n",
       "      <td>10.0</td>\n",
       "      <td>1</td>\n",
       "      <td>122170</td>\n",
       "      <td>272052</td>\n",
       "    </tr>\n",
       "    <tr>\n",
       "      <th>8</th>\n",
       "      <td>Fully Paid</td>\n",
       "      <td>548746</td>\n",
       "      <td>Short Term</td>\n",
       "      <td>678.0</td>\n",
       "      <td>2559110.0</td>\n",
       "      <td>2 years</td>\n",
       "      <td>Rent</td>\n",
       "      <td>Debt Consolidation</td>\n",
       "      <td>18660.28</td>\n",
       "      <td>22.6</td>\n",
       "      <td>33.0</td>\n",
       "      <td>0</td>\n",
       "      <td>437171</td>\n",
       "      <td>555038</td>\n",
       "    </tr>\n",
       "    <tr>\n",
       "      <th>10</th>\n",
       "      <td>Fully Paid</td>\n",
       "      <td>99999999</td>\n",
       "      <td>Short Term</td>\n",
       "      <td>728.0</td>\n",
       "      <td>714628.0</td>\n",
       "      <td>3 years</td>\n",
       "      <td>Rent</td>\n",
       "      <td>Debt Consolidation</td>\n",
       "      <td>11851.06</td>\n",
       "      <td>16.0</td>\n",
       "      <td>76.0</td>\n",
       "      <td>0</td>\n",
       "      <td>203965</td>\n",
       "      <td>289784</td>\n",
       "    </tr>\n",
       "    <tr>\n",
       "      <th>12</th>\n",
       "      <td>Fully Paid</td>\n",
       "      <td>99999999</td>\n",
       "      <td>Short Term</td>\n",
       "      <td>740.0</td>\n",
       "      <td>776188.0</td>\n",
       "      <td>&lt; 1 year</td>\n",
       "      <td>Own Home</td>\n",
       "      <td>Debt Consolidation</td>\n",
       "      <td>11578.22</td>\n",
       "      <td>8.5</td>\n",
       "      <td>25.0</td>\n",
       "      <td>0</td>\n",
       "      <td>134083</td>\n",
       "      <td>220220</td>\n",
       "    </tr>\n",
       "    <tr>\n",
       "      <th>14</th>\n",
       "      <td>Fully Paid</td>\n",
       "      <td>234124</td>\n",
       "      <td>Short Term</td>\n",
       "      <td>727.0</td>\n",
       "      <td>693234.0</td>\n",
       "      <td>10+ years</td>\n",
       "      <td>Rent</td>\n",
       "      <td>Debt Consolidation</td>\n",
       "      <td>14211.24</td>\n",
       "      <td>24.7</td>\n",
       "      <td>46.0</td>\n",
       "      <td>1</td>\n",
       "      <td>28291</td>\n",
       "      <td>107052</td>\n",
       "    </tr>\n",
       "    <tr>\n",
       "      <th>17</th>\n",
       "      <td>Fully Paid</td>\n",
       "      <td>666204</td>\n",
       "      <td>Long Term</td>\n",
       "      <td>723.0</td>\n",
       "      <td>1821967.0</td>\n",
       "      <td>10+ years</td>\n",
       "      <td>Home Mortgage</td>\n",
       "      <td>Debt Consolidation</td>\n",
       "      <td>17612.24</td>\n",
       "      <td>22.0</td>\n",
       "      <td>34.0</td>\n",
       "      <td>0</td>\n",
       "      <td>813694</td>\n",
       "      <td>2004618</td>\n",
       "    </tr>\n",
       "    <tr>\n",
       "      <th>20</th>\n",
       "      <td>Charged Off</td>\n",
       "      <td>317108</td>\n",
       "      <td>Long Term</td>\n",
       "      <td>687.0</td>\n",
       "      <td>1133274.0</td>\n",
       "      <td>8 years</td>\n",
       "      <td>Rent</td>\n",
       "      <td>Debt Consolidation</td>\n",
       "      <td>9632.81</td>\n",
       "      <td>17.4</td>\n",
       "      <td>53.0</td>\n",
       "      <td>0</td>\n",
       "      <td>60287</td>\n",
       "      <td>126940</td>\n",
       "    </tr>\n",
       "    <tr>\n",
       "      <th>25</th>\n",
       "      <td>Fully Paid</td>\n",
       "      <td>465410</td>\n",
       "      <td>Long Term</td>\n",
       "      <td>688.0</td>\n",
       "      <td>1722654.0</td>\n",
       "      <td>3 years</td>\n",
       "      <td>Rent</td>\n",
       "      <td>Buy House</td>\n",
       "      <td>15647.45</td>\n",
       "      <td>22.3</td>\n",
       "      <td>30.0</td>\n",
       "      <td>0</td>\n",
       "      <td>107559</td>\n",
       "      <td>488356</td>\n",
       "    </tr>\n",
       "    <tr>\n",
       "      <th>28</th>\n",
       "      <td>Fully Paid</td>\n",
       "      <td>99999999</td>\n",
       "      <td>Short Term</td>\n",
       "      <td>746.0</td>\n",
       "      <td>1749748.0</td>\n",
       "      <td>10+ years</td>\n",
       "      <td>Home Mortgage</td>\n",
       "      <td>Debt Consolidation</td>\n",
       "      <td>19247.19</td>\n",
       "      <td>20.0</td>\n",
       "      <td>32.0</td>\n",
       "      <td>0</td>\n",
       "      <td>224390</td>\n",
       "      <td>295240</td>\n",
       "    </tr>\n",
       "  </tbody>\n",
       "</table>\n",
       "</div>"
      ],
      "text/plain": [
       "     LoanStatus  CurrentLoanAmount        Term  CreditScore  AnnualIncome  \\\n",
       "2    Fully Paid           99999999  Short Term        741.0     2231892.0   \n",
       "6    Fully Paid             217646  Short Term        730.0     1184194.0   \n",
       "8    Fully Paid             548746  Short Term        678.0     2559110.0   \n",
       "10   Fully Paid           99999999  Short Term        728.0      714628.0   \n",
       "12   Fully Paid           99999999  Short Term        740.0      776188.0   \n",
       "14   Fully Paid             234124  Short Term        727.0      693234.0   \n",
       "17   Fully Paid             666204   Long Term        723.0     1821967.0   \n",
       "20  Charged Off             317108   Long Term        687.0     1133274.0   \n",
       "25   Fully Paid             465410   Long Term        688.0     1722654.0   \n",
       "28   Fully Paid           99999999  Short Term        746.0     1749748.0   \n",
       "\n",
       "   Yearsincurrentjob  HomeOwnership             Purpose  MonthlyDebt  \\\n",
       "2            8 years       Own Home  Debt Consolidation     29200.53   \n",
       "6           < 1 year  Home Mortgage  Debt Consolidation     10855.08   \n",
       "8            2 years           Rent  Debt Consolidation     18660.28   \n",
       "10           3 years           Rent  Debt Consolidation     11851.06   \n",
       "12          < 1 year       Own Home  Debt Consolidation     11578.22   \n",
       "14         10+ years           Rent  Debt Consolidation     14211.24   \n",
       "17         10+ years  Home Mortgage  Debt Consolidation     17612.24   \n",
       "20           8 years           Rent  Debt Consolidation      9632.81   \n",
       "25           3 years           Rent           Buy House     15647.45   \n",
       "28         10+ years  Home Mortgage  Debt Consolidation     19247.19   \n",
       "\n",
       "    YearsofCreditHistory  Monthssincelastdelinquent  NumberofCreditProblems  \\\n",
       "2                   14.9                       29.0                       1   \n",
       "6                   19.6                       10.0                       1   \n",
       "8                   22.6                       33.0                       0   \n",
       "10                  16.0                       76.0                       0   \n",
       "12                   8.5                       25.0                       0   \n",
       "14                  24.7                       46.0                       1   \n",
       "17                  22.0                       34.0                       0   \n",
       "20                  17.4                       53.0                       0   \n",
       "25                  22.3                       30.0                       0   \n",
       "28                  20.0                       32.0                       0   \n",
       "\n",
       "    CurrentCreditBalance  MaximumOpenCredit  \n",
       "2                 297996             750090  \n",
       "6                 122170             272052  \n",
       "8                 437171             555038  \n",
       "10                203965             289784  \n",
       "12                134083             220220  \n",
       "14                 28291             107052  \n",
       "17                813694            2004618  \n",
       "20                 60287             126940  \n",
       "25                107559             488356  \n",
       "28                224390             295240  "
      ]
     },
     "execution_count": 804,
     "metadata": {},
     "output_type": "execute_result"
    }
   ],
   "source": [
    "loan_status.head(10)"
   ]
  },
  {
   "cell_type": "code",
   "execution_count": 780,
   "metadata": {},
   "outputs": [
    {
     "data": {
      "text/plain": [
       "<matplotlib.axes._subplots.AxesSubplot at 0x7ffb73563b38>"
      ]
     },
     "execution_count": 780,
     "metadata": {},
     "output_type": "execute_result"
    },
    {
     "data": {
      "image/png": "[encoded data removed]",
      "text/plain": [
       "<Figure size 432x288 with 2 Axes>"
      ]
     },
     "metadata": {
      "needs_background": "light"
     },
     "output_type": "display_data"
    }
   ],
   "source": [
    "sns.heatmap(loan_status.isnull(),yticklabels= False) #No null values "
   ]
  },
  {
   "cell_type": "code",
   "execution_count": 818,
   "metadata": {},
   "outputs": [],
   "source": [
    "term = pd.get_dummies(loan_status['Term'],drop_first = True)"
   ]
  },
  {
   "cell_type": "code",
   "execution_count": 819,
   "metadata": {},
   "outputs": [],
   "source": [
    "credit = pd.get_dummies(loan_status['CreditScore'])"
   ]
  },
  {
   "cell_type": "code",
   "execution_count": 820,
   "metadata": {},
   "outputs": [],
   "source": [
    "annualIncome = pd.get_dummies(loan_status['AnnualIncome'])"
   ]
  },
  {
   "cell_type": "code",
   "execution_count": 821,
   "metadata": {},
   "outputs": [],
   "source": [
    "maximumOpenCredit= pd.get_dummies(loan_status['MaximumOpenCredit'])"
   ]
  },
  {
   "cell_type": "code",
   "execution_count": 822,
   "metadata": {},
   "outputs": [],
   "source": [
    "monthssincelastdelinquent = pd.get_dummies(loan_status['Monthssincelastdelinquent'])"
   ]
  },
  {
   "cell_type": "code",
   "execution_count": 823,
   "metadata": {},
   "outputs": [],
   "source": [
    "yearsofCreditHistory = pd.get_dummies(loan_status['YearsofCreditHistory'])"
   ]
  },
  {
   "cell_type": "code",
   "execution_count": 824,
   "metadata": {},
   "outputs": [],
   "source": [
    "monthlyDebt = pd.get_dummies(loan_status['MonthlyDebt'])"
   ]
  },
  {
   "cell_type": "code",
   "execution_count": 825,
   "metadata": {},
   "outputs": [],
   "source": [
    "currentJob = pd.get_dummies(loan_status['Yearsincurrentjob'])"
   ]
  },
  {
   "cell_type": "code",
   "execution_count": 826,
   "metadata": {},
   "outputs": [],
   "source": [
    "numberofCreditProblems = pd.get_dummies(loan_status['NumberofCreditProblems'])"
   ]
  },
  {
   "cell_type": "code",
   "execution_count": 827,
   "metadata": {},
   "outputs": [],
   "source": [
    "creditScore = pd.get_dummies(loan_status['CreditScore'])"
   ]
  },
  {
   "cell_type": "code",
   "execution_count": 828,
   "metadata": {},
   "outputs": [
    {
     "data": {
      "text/plain": [
       "Index(['LoanStatus', 'CurrentLoanAmount', 'Term', 'CreditScore',\n",
       "       'AnnualIncome', 'Yearsincurrentjob', 'HomeOwnership', 'Purpose',\n",
       "       'MonthlyDebt', 'YearsofCreditHistory', 'Monthssincelastdelinquent',\n",
       "       'NumberofCreditProblems', 'CurrentCreditBalance', 'MaximumOpenCredit'],\n",
       "      dtype='object')"
      ]
     },
     "execution_count": 828,
     "metadata": {},
     "output_type": "execute_result"
    }
   ],
   "source": [
    "loan_status.columns"
   ]
  },
  {
   "cell_type": "code",
   "execution_count": 829,
   "metadata": {},
   "outputs": [
    {
     "data": {
      "text/plain": [
       "14"
      ]
     },
     "execution_count": 829,
     "metadata": {},
     "output_type": "execute_result"
    }
   ],
   "source": [
    "len(loan_status.columns)"
   ]
  },
  {
   "cell_type": "code",
   "execution_count": null,
   "metadata": {},
   "outputs": [],
   "source": []
  },
  {
   "cell_type": "code",
   "execution_count": null,
   "metadata": {
    "collapsed": true
   },
   "outputs": [],
   "source": []
  },
  {
   "cell_type": "code",
   "execution_count": null,
   "metadata": {},
   "outputs": [],
   "source": []
  },
  {
   "cell_type": "code",
   "execution_count": null,
   "metadata": {},
   "outputs": [],
   "source": []
  },
  {
   "cell_type": "code",
   "execution_count": null,
   "metadata": {},
   "outputs": [],
   "source": []
  },
  {
   "cell_type": "code",
   "execution_count": null,
   "metadata": {},
   "outputs": [],
   "source": []
  },
  {
   "cell_type": "code",
   "execution_count": null,
   "metadata": {},
   "outputs": [],
   "source": []
  },
  {
   "cell_type": "code",
   "execution_count": null,
   "metadata": {},
   "outputs": [],
   "source": []
  },
  {
   "cell_type": "code",
   "execution_count": null,
   "metadata": {},
   "outputs": [],
   "source": []
  },
  {
   "cell_type": "code",
   "execution_count": null,
   "metadata": {},
   "outputs": [],
   "source": []
  },
  {
   "cell_type": "code",
   "execution_count": null,
   "metadata": {},
   "outputs": [],
   "source": []
  },
  {
   "cell_type": "code",
   "execution_count": null,
   "metadata": {},
   "outputs": [],
   "source": []
  },
  {
   "cell_type": "code",
   "execution_count": null,
   "metadata": {},
   "outputs": [],
   "source": []
  },
  {
   "cell_type": "code",
   "execution_count": null,
   "metadata": {},
   "outputs": [],
   "source": []
  },
  {
   "cell_type": "code",
   "execution_count": null,
   "metadata": {},
   "outputs": [],
   "source": []
  },
  {
   "cell_type": "code",
   "execution_count": null,
   "metadata": {},
   "outputs": [],
   "source": []
  },
  {
   "cell_type": "code",
   "execution_count": null,
   "metadata": {},
   "outputs": [],
   "source": []
  }
 ],
 "metadata": {
  "kernelspec": {
   "display_name": "Python 3",
   "language": "python",
   "name": "python3"
  },
  "language_info": {
   "codemirror_mode": {
    "name": "ipython",
    "version": 3
   },
   "file_extension": ".py",
   "mimetype": "text/x-python",
   "name": "python",
   "nbconvert_exporter": "python",
   "pygments_lexer": "ipython3",
   "version": "3.6.6"
  }
 },
 "nbformat": 4,
 "nbformat_minor": 2
}
